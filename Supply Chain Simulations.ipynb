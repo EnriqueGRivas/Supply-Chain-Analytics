{
 "cells": [
  {
   "cell_type": "markdown",
   "metadata": {},
   "source": [
    "### DATA SCIENCE AND SUPPLY CHAINS ANALYTICS. A – Z WITH PYTHON"
   ]
  },
  {
   "cell_type": "markdown",
   "metadata": {},
   "source": [
    "### Sección 13: Supply Chain Simulations"
   ]
  },
  {
   "cell_type": "markdown",
   "metadata": {},
   "source": [
    "### Introducción:\n",
    "\n",
    "Ahora hablaremos sobre la simulación. La simulación es una muy buena herramienta para usar, para tomar una buena decisión sobre nuestra capacidad, nuestros recursos, sobre cómo satisfacer a todos los clientes que vienen a nuestras instalaciones y modelar el tiempo de espera o la línea de espera del cliente para el servicio, es una herramienta muy útil para conocer la capacidad que necesita y los recursos que se necesita para sus instalaciones.\n",
    "\n",
    "Por ejemplo, si trabaja en un banco y quiere saber cuántos cajeros necesita o cuánto es el soporte de servicio al cliente que necesita, o cuántas máquinas para cajeros automáticos necesita, este tipo de recursos, quiere saber cuántos recursos necesita para satisfacer a sus clientes y al mismo tiempo no gastar demasiado dinero con respecto al costo de capital y también con respecto a la mano de obra en sí.\n",
    "\n",
    "Y puede ser un banco en el centro de llamadas, puede ser cualquier instalación de servicio en Washington DC. Todas estas instalaciones, todos estos servicios tienen capacidad y necesitan estos recursos. Es muy bueno hacer simulaciones, entender la cantidad de recursos que necesitamos para cada tipo de servicio.\n",
    "\n",
    "Entonces, tomemos un ejemplo simple. Digamos que tenemos un solo servicio y este servicio es un cajero automático, y creo que un cliente viene al cajero automático cada minuto, y el cliente también se toman alrededor de un minuto para retirar dinero del cajero automático o depositar dinero o cualquier otro tipo de servicio o hacer un cheque. Cualquier tipo de servicio solicita, tardará alrededor de un minuto en promedio. Así que llamaré a esta llegada de clientes, en cada minuto la \"Llegada\", la hora de llegada, y ahora llamará el minuto que le tome al cliente hacer su transacción o su servicio, lo llamaré el tiempo de servicio.\n",
    "\n",
    "Entonces este es el momento del servicio, el sistema puede funcionar así porque tarda un minuto en llegar y el servicio tarda un minuto. Entonces, si llega un segundo cliente, puede esperar uno, 10 segundos, 15 segundos, quizás este cliente se tome un poco de tiempo; Bien, porque no lleva exactamente un minuto. Es por eso que necesitamos una Distribución y el cliente no llega exactamente cada minuto. Por eso también necesitamos distribuciones para caracterizar el tiempo de llegada de los clientes.\n",
    "\n",
    "Si un cliente ya está aquí haciendo su transacción y llega un segundo cliente, la espera será aquí, estará esperando hasta que termine este cliente. Entonces, **¿cuál será el tiempo transcurrido para que este cliente finalice su servicio?**, será su hora de llegada. **Cuando llego?**, más el tiempo de espera, si lo hay.\n",
    "\n",
    "Si el tiempo de espera, más el tiempo de servicio, correcto, si no espera, entonces esto es igual a cero, entonces no hay problema, verdad?, pero si espera, se agregará para ver cuándo se va. Entonces puede ver que el sistema colapsará si tengo tres clientes esperando o viniendo cada minuto.\n",
    "\n",
    "Simplemente no es posible porque la custodia y luego seguido de otros tres y luego seguido de otros tres y luego seguidos por otros tres, y luego tendremos una larga fila de clientes insatisfechos. Entonces, cuanto mayor sea el tiempo de llegada de los clientes, más capacidad necesitaremos.\n",
    "\n",
    "Tal vez necesitemos cajeros automáticos, tal vez necesitemos tres cajeros automáticos. Entonces, la simulación nos permite probar estos diferentes cambios en los recursos y cambiar el tiempo de llegada para conseguir la mejor optimización de instalaciones y recursos, **¿cómo podemos lograr esto probando las distribuciones?**\n",
    "\n",
    "Puedo, por ejemplo, esperar frente a la puerta del banco durante una hora durante dos horas y ver hora de llegada, cuántos clientes llegaron a cada hora y luego este será mi promedio y pueden decir que llegan con un promedio de 50 clientes por hora y la desviación estándar de 10 y luego puedo conectarlo a mi modelo de simulación, y luego puedo probarlo.\n",
    "\n",
    "Por ejemplo, puedo ver que el mínimo que tenían era 20, el máximo que tenían era 60, y la modalidad que tuvieron, el evento más repetitivo fue 30. Entonces puedo tener algún tipo de distribución triangular. Puedo ver que llegan exponencialmente a un ritmo de medio hora, un cliente por minuto, este es el exponencial.\n",
    "\n",
    "Así que veré que voy a observar la llegada de los clientes, y luego puedo decir, OK, la distribución parece que esto puede ser exponencial, puede ser normal, puede que lo sea. Pero lo importante es que tenemos una distribución para la hora de llegada y tenemos una distribución para el tiempo de servicio. Y tenemos que identificar el número de servidores.\n",
    "\n",
    "**Cuantos servidores?**. **¿Es la 1:00 am, es un Toyota, es las 3:00 am, y así sucesivamente, en el entorno bancario y veremos si es la 1:00 am?**, suficiente para nuestros clientes o no."
   ]
  },
  {
   "cell_type": "markdown",
   "metadata": {},
   "source": [
    "### Waiting Lines (Líneas de espera):\n",
    "\n",
    "**Simulación:**\n",
    "\n",
    " - La simulación es un estudio del comportamiento de los sistemas para tomar decisiones comerciales.\n",
    " - Se basa en la caracterización de distribuciones y en cómo las diferentes partes del sistema interactúan juntas.\n",
    " - De ellos es teoría de colas / línea de espera.\n",
    " - Esto modelará los recursos necesarios necesarios para asignar un servicio.\n",
    "\n",
    "Ahora que hemos discutido las distribuciones y sabíamos cómo las distribuciones puede ayudarnos a administrar nuestro sistema de inventario y qué tipo de cobertura de existencias de seguridad podemos tener para nuestro inventario basado en la distribución, ahora usemos la distribución para otro propósito u otra finalidad de la investigación operativa.\n",
    "\n",
    "A veces lo necesitamos, Administrar los recursos dentro del sistema para que pueda saber exactamente, si su sistema funciona de manera eficiente o no, si hay utilización de su sistema o no.\n",
    "\n",
    "Tomemos un ejemplo de una fila de espera para un banco, tiene 5 cajeros y 50 clientes que vienen a su banco cada hora y el minorista tarda alrededor de 5 minutos o 3 minutos en terminar un cliente. **¿Será esto suficiente o tendría mucha y una fila de espera dentro de su banco? ¿Su banco tiene ¿capacidad para acomodar a los clientes en espera o no?**.\n",
    "\n",
    "Este tipo de simulación de preguntas puede ayudarnos a responder. Entonces, la simulación es un estudio del comportamiento de un sistema para tomar una decisión comercial, se basa en la caracterización de distribuciones. Entonces sabemos si las personas que llegan son las que llegan con una distribución de personas o si llegan con distribución normal, que están teniendo otra distribución.\n",
    "\n",
    "Y se basa en la caracterización de distribuciones y cómo interactúan las diferentes partes del sistema juntos. Entonces, esta distribución es este el servidor o el tenor está abarrotado, empacado o no, está funcionando a la mitad del tiempo, este tipo de preguntas?\n",
    "\n",
    "Y tomaremos un estudio real de que la teoría de las colas tendrá varios ejemplos, serán los recursos necesarios para ubicar para el servicio, esto modelará lo que sucederá cuando tenga un grupo de 2 o 3 clientes y así sucesivamente. Pero primero, entendamos cuáles son los componentes de la teoría del cubo.\n",
    "\n",
    "Entonces, el sistema CU tiene dos componentes principales:\n",
    "\n",
    "**Componentes de un sistema de cola:**\n",
    " - Proceso de llegada\n",
    " - Tiempo de servicio\n",
    " - No de recursos para el servicio\n",
    " \n",
    "Entonces el tiempo de llegada, **¿con qué frecuencia?**, si llega un cliente, la hora de llegada de entrada es la diferencia entre cada llegada de cada cliente.\n",
    "\n",
    "Así que esta es la hora de llegada y la hora completa de llegada, todo esto es el proceso de llegada, y tienen el servicio en promedio o sí, en promedio, **¿cuánto tiempo tardará un cliente en finalizar su servicio?** Y en base a esto, usted define su asignación de servicios, **¿cuántos servicios necesita?**\n",
    "\n",
    "Entonces, estos son los componentes principales de un sistema de colas *LAMDA* es para la caracterización o distribución del tiempo de llegada de entrada, *Wiremu* es para la caracterización o distribución del servicio. Entonces esos están en Londres y cualquier modelo de cola como formato estándar, tiene 5 letras: \n",
    "\n",
    "\n",
    "**Notación del modelo de cola:**\n",
    "Las dos entradas principales para cualquier sistema de cola son:\n",
    "***^ (LAMBDA):*** número medio de llegadas por período de tiempo (es decir, tasa media de llegadas)\n",
    "***M (MU):*** número promedio de clientes atendidos por período de tiempo (es decir, tasa de servicio media)\n",
    "\n",
    "El sistema de notación estándar para clasificar un sistema de colas es A / B / C / K / M, donde:\n",
    " - **A:** Representa la distribución de probabilidad del proceso de llegada.\n",
    " - **B:** Representa la distribución de probabilidad para el proceso de Servicio.\n",
    " - **C:** representa el número de canales (servidores).\n",
    " - **K:** representa el número máximo de clientes permitidos en el sistema de colas.\n",
    " - **M:** Representa el número máximo de clientes en total.\n",
    "\n",
    "https://towardsdatascience.com/queueing-models-with-r-a794c78e6820\n",
    "\n",
    "A veces su banco puede aceptar, como dijimos, 30 personas, o solo 40 personas, no se pueden tomar más que eso debido a la capacidad, y al final, representamos el número máximo de clientes en total. Entonces, su población, toda su población de clientes, por lo que este es un formato estándar de cualquiera.\n",
    "\n",
    "**Opciones comunes para A y B:**\n",
    " - *M*: para una distribución de posisson de llegada (por lo tanto, distribución exponencial entre llegadas) o una distribución exponencial del tiempo de servicio.\n",
    " - *D*: para un valor determinista o constante.\n",
    " - *EK*: para una distribución erlang de orden *K*\n",
    " - *G*: para una distribución general con media y varianza conocidas.\n",
    "\n",
    "Espera en la fila, también algunas otras opciones. Por lo general, es una distribución exponencial de llegada, por lo tanto, empresa, tiene una distribución del tiempo de servicio. A veces lo dejan a un lado por el valor determinista o constante, por lo que es un cliente a largo plazo que viene cada minuto, eso es determinista.\n",
    "\n",
    "Te preocupas por la distribución de la autarquía de Earling y el equipo para la distribución general con nomina y varios, como distribución normal y así sucesivamente. **¿Cuáles son los resultados de cualquier línea de espera más que. Entonces, la utilización general del sistema, ¿qué tan ocupados estaban los servidores?**\n",
    "\n",
    "La probabilidad de que todos los servidores estén tan poco ocupados o cuál es la probabilidad de que estén **¿O todo el tiempo?**. Número promedio de clientes en la cola a largo plazo, en promedio, cuántos clientes están esperando en la ¿cola?. Más tiempo en promedio, tiempo pasado en la cola. **¿Cuánto tiempo pasan en el rendimiento del sistema de cola, número promedio de clientes a largo plazo en ¿el sistema?**\n",
    "\n",
    "**Parámetros que buscamos:**\n",
    " - **RO (P):** Utilización general del sistema.\n",
    " - **PO:** La probabilidad de que todos los servidores estén inactivos.\n",
    " - **LQ:** número promedio de clientes en la cola a largo plazo.\n",
    " - **WQ:** tiempo promedio de larga duración en la cola.\n",
    " - **X:** rendimiento del sistema.\n",
    " - **L:** Promedio de clientes a largo plazo en el sistema.\n",
    " - **W:** tiempo medio de largo plazo empleado en el sistema.\n",
    " - **WQQ:** tiempo promedio de larga duración en cola cuando hay cola en un modelo de cola.\n",
    " - **LQQ:** número promedio de clientes en cola a largo plazo cuando hay cola en un modelo de cola.\n",
    "\n",
    "A largo plazo, tiempo promedio de permanencia en el sistema, más tiempo que el promedio de permanencia en Cuba y rescatando a un número medio moderno y de largo plazo de clientes en una cola cuando hay una cola en un mes de cola.\n",
    "\n",
    "Uno es el tiempo invertido, *WQQ* y *LQQ* es el número de clientes. Entonces esos son los parámetros de la salida de esperando último modelo, y lo que nos interesa algún día y normalmente es el tiempo medio de espera, porque no queremos que los clientes esperen mucho tiempo donde ponemos como un umbral, decimos, está bien, si no quiero los clientes deben esperar más de dos minutos, **¿cuántos servidores debo instalar en mi sistema?**."
   ]
  },
  {
   "cell_type": "markdown",
   "metadata": {},
   "source": [
    "### Demostración de ejemplo de simulación:\n",
    "\n",
    "**Ejemplo: M, G, 1** (En Excel)\n",
    " - Operamos una pequeña tienda de comestibles.\n",
    " - Solo tenemos un cajero (servidor) y queremos saber si es mejor conseguir otro cajero para la tienda.\n",
    " - Los clientes llegan al cajero con un tiempo entre llegadas exponencial de 1 minuto.\n",
    " - Los clientes tienden a terminar de pagar con una media de 1 minuto y una desviación estándar de 20 segundos.\n",
    " - ¿Bastará un cajero si queremos que el tiempo de espera sea inferior a dos minutos?"
   ]
  },
  {
   "cell_type": "markdown",
   "metadata": {},
   "source": [
    "### Simulation waiting time in Python (Tiempo de espera de simulación en Python):"
   ]
  },
  {
   "cell_type": "code",
   "execution_count": 1,
   "metadata": {},
   "outputs": [],
   "source": [
    "# Importación de Librerias:\n",
    "import pandas as pd\n",
    "import numpy as np\n",
    "import statsmodels.api as sm\n",
    "import matplotlib.pyplot as plt\n",
    "plt.style.use('ggplot')"
   ]
  },
  {
   "cell_type": "code",
   "execution_count": 2,
   "metadata": {},
   "outputs": [],
   "source": [
    "import os\n",
    "ruta = os.chdir(\"C:/ENRIQUE/PROGRAMACIÓN/PROYECTOS/Data Science and Supply Chain with Python/Seccion 13\")"
   ]
  },
  {
   "cell_type": "code",
   "execution_count": 3,
   "metadata": {},
   "outputs": [],
   "source": [
    "lambda1= 1\n",
    "mean_service=1\n",
    "sd= 0.2"
   ]
  },
  {
   "cell_type": "code",
   "execution_count": 4,
   "metadata": {},
   "outputs": [],
   "source": [
    "arrival_time= np.random.exponential(1,400).cumsum()\n",
    "#arrival_time"
   ]
  },
  {
   "cell_type": "code",
   "execution_count": 5,
   "metadata": {},
   "outputs": [],
   "source": [
    "service_time= np.random.normal(1,0.2,400)"
   ]
  },
  {
   "cell_type": "code",
   "execution_count": 6,
   "metadata": {},
   "outputs": [
    {
     "data": {
      "text/plain": [
       "19.18030328334769"
      ]
     },
     "execution_count": 6,
     "metadata": {},
     "output_type": "execute_result"
    }
   ],
   "source": [
    "def waiting_mean(arrival_time,service_time):\n",
    "    waiting_time=[]\n",
    "    leaving_time=[]\n",
    "    \n",
    "    waiting_time.append(0)\n",
    "    leaving_time.append(arrival_time[0]+service_time[0]+waiting_time[0]) #Desde el 1er. cliente\n",
    "    \n",
    "    for i in range(1,len(arrival_time)):\n",
    "        waiting_time.append(max(0,leaving_time[i-1]-arrival_time[i]))\n",
    "        leaving_time.append(arrival_time[i]+service_time[i]+waiting_time[i])\n",
    "        \n",
    "    mean_waiting= np.mean(waiting_time)  \n",
    "    return mean_waiting\n",
    "\n",
    "waiting_mean(arrival_time,service_time)"
   ]
  },
  {
   "cell_type": "markdown",
   "metadata": {},
   "source": [
    "### 1000 Simulations (1000 Simulaciones):"
   ]
  },
  {
   "cell_type": "code",
   "execution_count": 7,
   "metadata": {},
   "outputs": [],
   "source": [
    "average_Sim= []\n",
    "for i in range(0,1000):\n",
    "    arrival_time= np.random.exponential(1,400).cumsum()\n",
    "\n",
    "    service_time= np.random.normal(1,0.2,400)\n",
    "    waiting_time= waiting_mean(arrival_time, service_time)\n",
    "    average_Sim.append(waiting_time)"
   ]
  },
  {
   "cell_type": "code",
   "execution_count": 8,
   "metadata": {},
   "outputs": [
    {
     "data": {
      "text/plain": [
       "10.146737497919284"
      ]
     },
     "execution_count": 8,
     "metadata": {},
     "output_type": "execute_result"
    }
   ],
   "source": [
    "np.mean(average_Sim)"
   ]
  },
  {
   "cell_type": "code",
   "execution_count": 9,
   "metadata": {},
   "outputs": [
    {
     "data": {
      "text/plain": [
       "8.751322948798629"
      ]
     },
     "execution_count": 9,
     "metadata": {},
     "output_type": "execute_result"
    }
   ],
   "source": [
    "np.median(average_Sim)"
   ]
  },
  {
   "cell_type": "code",
   "execution_count": 10,
   "metadata": {},
   "outputs": [
    {
     "data": {
      "image/png": "[encoded data removed]",
      "text/plain": [
       "<Figure size 432x288 with 1 Axes>"
      ]
     },
     "metadata": {},
     "output_type": "display_data"
    }
   ],
   "source": [
    "plt.hist(average_Sim)\n",
    "plt.show()"
   ]
  },
  {
   "cell_type": "markdown",
   "metadata": {},
   "source": [
    "### Downloading R (Descargando R):"
   ]
  },
  {
   "cell_type": "code",
   "execution_count": 11,
   "metadata": {},
   "outputs": [],
   "source": [
    "# Descargando las librerias para trabajar con R:\n",
    "# Ver el video 207"
   ]
  },
  {
   "cell_type": "markdown",
   "metadata": {},
   "source": [
    "### Installing Rpy2"
   ]
  },
  {
   "cell_type": "code",
   "execution_count": 12,
   "metadata": {},
   "outputs": [
    {
     "name": "stderr",
     "output_type": "stream",
     "text": [
      "From cffi callback <function _consolewrite_ex at 0x00000153DBDBC3A0>:\n",
      "Traceback (most recent call last):\n",
      "  File \"C:\\Users\\enriq\\anaconda3\\lib\\site-packages\\rpy2\\rinterface_lib\\callbacks.py\", line 132, in _consolewrite_ex\n",
      "    s = conversion._cchar_to_str_with_maxlen(buf, n, _CCHAR_ENCODING)\n",
      "  File \"C:\\Users\\enriq\\anaconda3\\lib\\site-packages\\rpy2\\rinterface_lib\\conversion.py\", line 133, in _cchar_to_str_with_maxlen\n",
      "    s = ffi.string(c, maxlen).decode(encoding)\n",
      "UnicodeDecodeError: 'utf-8' codec can't decode byte 0xf3 in position 196: invalid continuation byte\n"
     ]
    },
    {
     "ename": "UnicodeDecodeError",
     "evalue": "'utf-8' codec can't decode byte 0xf3 in position 196: invalid continuation byte",
     "output_type": "error",
     "traceback": [
      "\u001b[1;31m---------------------------------------------------------------------------\u001b[0m",
      "\u001b[1;31mUnicodeDecodeError\u001b[0m                        Traceback (most recent call last)",
      "\u001b[1;32m<ipython-input-12-5ccda985311e>\u001b[0m in \u001b[0;36m<module>\u001b[1;34m\u001b[0m\n\u001b[0;32m      2\u001b[0m \u001b[1;33m\u001b[0m\u001b[0m\n\u001b[0;32m      3\u001b[0m \u001b[1;31m# pip install rpy2\u001b[0m\u001b[1;33m\u001b[0m\u001b[1;33m\u001b[0m\u001b[1;33m\u001b[0m\u001b[0m\n\u001b[1;32m----> 4\u001b[1;33m \u001b[1;32mfrom\u001b[0m \u001b[0mrpy2\u001b[0m\u001b[1;33m.\u001b[0m\u001b[0mrobjects\u001b[0m \u001b[1;32mimport\u001b[0m \u001b[0mr\u001b[0m \u001b[1;33m,\u001b[0m\u001b[0mpandas2ri\u001b[0m\u001b[1;33m\u001b[0m\u001b[1;33m\u001b[0m\u001b[0m\n\u001b[0m\u001b[0;32m      5\u001b[0m \u001b[1;32mfrom\u001b[0m \u001b[0mrpy2\u001b[0m\u001b[1;33m.\u001b[0m\u001b[0mrobjects\u001b[0m\u001b[1;33m.\u001b[0m\u001b[0mpackages\u001b[0m \u001b[1;32mimport\u001b[0m \u001b[0mimportr\u001b[0m\u001b[1;33m\u001b[0m\u001b[1;33m\u001b[0m\u001b[0m\n\u001b[0;32m      6\u001b[0m \u001b[1;32mfrom\u001b[0m \u001b[0mrpy2\u001b[0m\u001b[1;33m.\u001b[0m\u001b[0mrobjects\u001b[0m \u001b[1;32mimport\u001b[0m \u001b[0mFloatVector\u001b[0m\u001b[1;33m\u001b[0m\u001b[1;33m\u001b[0m\u001b[0m\n",
      "\u001b[1;32m~\\anaconda3\\lib\\site-packages\\rpy2\\robjects\\__init__.py\u001b[0m in \u001b[0;36m<module>\u001b[1;34m\u001b[0m\n\u001b[0;32m     17\u001b[0m \u001b[1;32mimport\u001b[0m \u001b[0mrpy2\u001b[0m\u001b[1;33m.\u001b[0m\u001b[0mrlike\u001b[0m\u001b[1;33m.\u001b[0m\u001b[0mcontainer\u001b[0m \u001b[1;32mas\u001b[0m \u001b[0mrlc\u001b[0m\u001b[1;33m\u001b[0m\u001b[1;33m\u001b[0m\u001b[0m\n\u001b[0;32m     18\u001b[0m \u001b[1;33m\u001b[0m\u001b[0m\n\u001b[1;32m---> 19\u001b[1;33m \u001b[1;32mfrom\u001b[0m \u001b[0mrpy2\u001b[0m\u001b[1;33m.\u001b[0m\u001b[0mrobjects\u001b[0m\u001b[1;33m.\u001b[0m\u001b[0mrobject\u001b[0m \u001b[1;32mimport\u001b[0m \u001b[0mRObjectMixin\u001b[0m\u001b[1;33m,\u001b[0m \u001b[0mRObject\u001b[0m\u001b[1;33m\u001b[0m\u001b[1;33m\u001b[0m\u001b[0m\n\u001b[0m\u001b[0;32m     20\u001b[0m \u001b[1;32mimport\u001b[0m \u001b[0mrpy2\u001b[0m\u001b[1;33m.\u001b[0m\u001b[0mrobjects\u001b[0m\u001b[1;33m.\u001b[0m\u001b[0mfunctions\u001b[0m\u001b[1;33m\u001b[0m\u001b[1;33m\u001b[0m\u001b[0m\n\u001b[0;32m     21\u001b[0m from rpy2.robjects.environments import (Environment,\n",
      "\u001b[1;32m~\\anaconda3\\lib\\site-packages\\rpy2\\robjects\\robject.py\u001b[0m in \u001b[0;36m<module>\u001b[1;34m\u001b[0m\n\u001b[0;32m     56\u001b[0m \u001b[1;33m\u001b[0m\u001b[0m\n\u001b[0;32m     57\u001b[0m \u001b[1;33m\u001b[0m\u001b[0m\n\u001b[1;32m---> 58\u001b[1;33m \u001b[1;32mclass\u001b[0m \u001b[0mRObjectMixin\u001b[0m\u001b[1;33m(\u001b[0m\u001b[0mobject\u001b[0m\u001b[1;33m)\u001b[0m\u001b[1;33m:\u001b[0m\u001b[1;33m\u001b[0m\u001b[1;33m\u001b[0m\u001b[0m\n\u001b[0m\u001b[0;32m     59\u001b[0m     \u001b[1;34m\"\"\" Class to provide methods common to all RObject instances. \"\"\"\u001b[0m\u001b[1;33m\u001b[0m\u001b[1;33m\u001b[0m\u001b[0m\n\u001b[0;32m     60\u001b[0m \u001b[1;33m\u001b[0m\u001b[0m\n",
      "\u001b[1;32m~\\anaconda3\\lib\\site-packages\\rpy2\\robjects\\robject.py\u001b[0m in \u001b[0;36mRObjectMixin\u001b[1;34m()\u001b[0m\n\u001b[0;32m     68\u001b[0m     \u001b[0m__readlines\u001b[0m \u001b[1;33m=\u001b[0m \u001b[0mrpy2\u001b[0m\u001b[1;33m.\u001b[0m\u001b[0mrinterface\u001b[0m\u001b[1;33m.\u001b[0m\u001b[0mbaseenv\u001b[0m\u001b[1;33m.\u001b[0m\u001b[0mfind\u001b[0m\u001b[1;33m(\u001b[0m\u001b[1;34m\"readLines\"\u001b[0m\u001b[1;33m)\u001b[0m\u001b[1;33m\u001b[0m\u001b[1;33m\u001b[0m\u001b[0m\n\u001b[0;32m     69\u001b[0m     \u001b[0m__unlink\u001b[0m \u001b[1;33m=\u001b[0m \u001b[0mrpy2\u001b[0m\u001b[1;33m.\u001b[0m\u001b[0mrinterface\u001b[0m\u001b[1;33m.\u001b[0m\u001b[0mbaseenv\u001b[0m\u001b[1;33m.\u001b[0m\u001b[0mfind\u001b[0m\u001b[1;33m(\u001b[0m\u001b[1;34m\"unlink\"\u001b[0m\u001b[1;33m)\u001b[0m\u001b[1;33m\u001b[0m\u001b[1;33m\u001b[0m\u001b[0m\n\u001b[1;32m---> 70\u001b[1;33m     \u001b[0m__show\u001b[0m \u001b[1;33m=\u001b[0m \u001b[0m_get_exported_value\u001b[0m\u001b[1;33m(\u001b[0m\u001b[1;34m'methods'\u001b[0m\u001b[1;33m,\u001b[0m \u001b[1;34m'show'\u001b[0m\u001b[1;33m)\u001b[0m\u001b[1;33m\u001b[0m\u001b[1;33m\u001b[0m\u001b[0m\n\u001b[0m\u001b[0;32m     71\u001b[0m \u001b[1;33m\u001b[0m\u001b[0m\n\u001b[0;32m     72\u001b[0m     \u001b[0m__slots\u001b[0m \u001b[1;33m=\u001b[0m \u001b[1;32mNone\u001b[0m\u001b[1;33m\u001b[0m\u001b[1;33m\u001b[0m\u001b[0m\n",
      "\u001b[1;32m~\\anaconda3\\lib\\site-packages\\rpy2\\rinterface_lib\\conversion.py\u001b[0m in \u001b[0;36m_\u001b[1;34m(*args, **kwargs)\u001b[0m\n\u001b[0;32m     43\u001b[0m \u001b[1;32mdef\u001b[0m \u001b[0m_cdata_res_to_rinterface\u001b[0m\u001b[1;33m(\u001b[0m\u001b[0mfunction\u001b[0m\u001b[1;33m)\u001b[0m\u001b[1;33m:\u001b[0m\u001b[1;33m\u001b[0m\u001b[1;33m\u001b[0m\u001b[0m\n\u001b[0;32m     44\u001b[0m     \u001b[1;32mdef\u001b[0m \u001b[0m_\u001b[0m\u001b[1;33m(\u001b[0m\u001b[1;33m*\u001b[0m\u001b[0margs\u001b[0m\u001b[1;33m,\u001b[0m \u001b[1;33m**\u001b[0m\u001b[0mkwargs\u001b[0m\u001b[1;33m)\u001b[0m\u001b[1;33m:\u001b[0m\u001b[1;33m\u001b[0m\u001b[1;33m\u001b[0m\u001b[0m\n\u001b[1;32m---> 45\u001b[1;33m         \u001b[0mcdata\u001b[0m \u001b[1;33m=\u001b[0m \u001b[0mfunction\u001b[0m\u001b[1;33m(\u001b[0m\u001b[1;33m*\u001b[0m\u001b[0margs\u001b[0m\u001b[1;33m,\u001b[0m \u001b[1;33m**\u001b[0m\u001b[0mkwargs\u001b[0m\u001b[1;33m)\u001b[0m\u001b[1;33m\u001b[0m\u001b[1;33m\u001b[0m\u001b[0m\n\u001b[0m\u001b[0;32m     46\u001b[0m         \u001b[1;31m# TODO: test cdata is of the expected CType\u001b[0m\u001b[1;33m\u001b[0m\u001b[1;33m\u001b[0m\u001b[1;33m\u001b[0m\u001b[0m\n\u001b[0;32m     47\u001b[0m         \u001b[1;32mreturn\u001b[0m \u001b[0m_cdata_to_rinterface\u001b[0m\u001b[1;33m(\u001b[0m\u001b[0mcdata\u001b[0m\u001b[1;33m)\u001b[0m\u001b[1;33m\u001b[0m\u001b[1;33m\u001b[0m\u001b[0m\n",
      "\u001b[1;32m~\\anaconda3\\lib\\site-packages\\rpy2\\rinterface.py\u001b[0m in \u001b[0;36m__call__\u001b[1;34m(self, *args, **kwargs)\u001b[0m\n\u001b[0;32m    678\u001b[0m             )\n\u001b[0;32m    679\u001b[0m             \u001b[1;32mif\u001b[0m \u001b[0merror_occured\u001b[0m\u001b[1;33m[\u001b[0m\u001b[1;36m0\u001b[0m\u001b[1;33m]\u001b[0m\u001b[1;33m:\u001b[0m\u001b[1;33m\u001b[0m\u001b[1;33m\u001b[0m\u001b[0m\n\u001b[1;32m--> 680\u001b[1;33m                 \u001b[1;32mraise\u001b[0m \u001b[0membedded\u001b[0m\u001b[1;33m.\u001b[0m\u001b[0mRRuntimeError\u001b[0m\u001b[1;33m(\u001b[0m\u001b[0m_rinterface\u001b[0m\u001b[1;33m.\u001b[0m\u001b[0m_geterrmessage\u001b[0m\u001b[1;33m(\u001b[0m\u001b[1;33m)\u001b[0m\u001b[1;33m)\u001b[0m\u001b[1;33m\u001b[0m\u001b[1;33m\u001b[0m\u001b[0m\n\u001b[0m\u001b[0;32m    681\u001b[0m         \u001b[1;32mreturn\u001b[0m \u001b[0mres\u001b[0m\u001b[1;33m\u001b[0m\u001b[1;33m\u001b[0m\u001b[0m\n\u001b[0;32m    682\u001b[0m \u001b[1;33m\u001b[0m\u001b[0m\n",
      "\u001b[1;32m~\\anaconda3\\lib\\site-packages\\rpy2\\rinterface_lib\\_rinterface_capi.py\u001b[0m in \u001b[0;36m_geterrmessage\u001b[1;34m()\u001b[0m\n\u001b[0;32m    436\u001b[0m             \u001b[0mrlib\u001b[0m\u001b[1;33m.\u001b[0m\u001b[0mRf_eval\u001b[0m\u001b[1;33m(\u001b[0m\u001b[0mcall_r\u001b[0m\u001b[1;33m,\u001b[0m \u001b[0mrlib\u001b[0m\u001b[1;33m.\u001b[0m\u001b[0mR_GlobalEnv\u001b[0m\u001b[1;33m)\u001b[0m\u001b[1;33m\u001b[0m\u001b[1;33m\u001b[0m\u001b[0m\n\u001b[0;32m    437\u001b[0m         )\n\u001b[1;32m--> 438\u001b[1;33m         \u001b[0mres\u001b[0m \u001b[1;33m=\u001b[0m \u001b[0m_string_getitem\u001b[0m\u001b[1;33m(\u001b[0m\u001b[0mres\u001b[0m\u001b[1;33m,\u001b[0m \u001b[1;36m0\u001b[0m\u001b[1;33m)\u001b[0m\u001b[1;33m\u001b[0m\u001b[1;33m\u001b[0m\u001b[0m\n\u001b[0m\u001b[0;32m    439\u001b[0m     \u001b[1;32mreturn\u001b[0m \u001b[0mres\u001b[0m\u001b[1;33m\u001b[0m\u001b[1;33m\u001b[0m\u001b[0m\n\u001b[0;32m    440\u001b[0m \u001b[1;33m\u001b[0m\u001b[0m\n",
      "\u001b[1;32m~\\anaconda3\\lib\\site-packages\\rpy2\\rinterface_lib\\_rinterface_capi.py\u001b[0m in \u001b[0;36m_string_getitem\u001b[1;34m(cdata, i)\u001b[0m\n\u001b[0;32m    282\u001b[0m         \u001b[0mres\u001b[0m \u001b[1;33m=\u001b[0m \u001b[1;32mNone\u001b[0m\u001b[1;33m\u001b[0m\u001b[1;33m\u001b[0m\u001b[0m\n\u001b[0;32m    283\u001b[0m     \u001b[1;32melse\u001b[0m\u001b[1;33m:\u001b[0m\u001b[1;33m\u001b[0m\u001b[1;33m\u001b[0m\u001b[0m\n\u001b[1;32m--> 284\u001b[1;33m         res = conversion._cchar_to_str(\n\u001b[0m\u001b[0;32m    285\u001b[0m             \u001b[0mopenrlib\u001b[0m\u001b[1;33m.\u001b[0m\u001b[0mrlib\u001b[0m\u001b[1;33m.\u001b[0m\u001b[0mR_CHAR\u001b[0m\u001b[1;33m(\u001b[0m\u001b[0melt\u001b[0m\u001b[1;33m)\u001b[0m\u001b[1;33m,\u001b[0m\u001b[1;33m\u001b[0m\u001b[1;33m\u001b[0m\u001b[0m\n\u001b[0;32m    286\u001b[0m             \u001b[0mconversion\u001b[0m\u001b[1;33m.\u001b[0m\u001b[0m_R_ENC_PY\u001b[0m\u001b[1;33m[\u001b[0m\u001b[0mopenrlib\u001b[0m\u001b[1;33m.\u001b[0m\u001b[0mrlib\u001b[0m\u001b[1;33m.\u001b[0m\u001b[0mRf_getCharCE\u001b[0m\u001b[1;33m(\u001b[0m\u001b[0melt\u001b[0m\u001b[1;33m)\u001b[0m\u001b[1;33m]\u001b[0m\u001b[1;33m\u001b[0m\u001b[1;33m\u001b[0m\u001b[0m\n",
      "\u001b[1;32m~\\anaconda3\\lib\\site-packages\\rpy2\\rinterface_lib\\conversion.py\u001b[0m in \u001b[0;36m_cchar_to_str\u001b[1;34m(c, encoding)\u001b[0m\n\u001b[0;32m    125\u001b[0m \u001b[1;32mdef\u001b[0m \u001b[0m_cchar_to_str\u001b[0m\u001b[1;33m(\u001b[0m\u001b[0mc\u001b[0m\u001b[1;33m,\u001b[0m \u001b[0mencoding\u001b[0m\u001b[1;33m:\u001b[0m \u001b[0mstr\u001b[0m\u001b[1;33m)\u001b[0m \u001b[1;33m->\u001b[0m \u001b[0mstr\u001b[0m\u001b[1;33m:\u001b[0m\u001b[1;33m\u001b[0m\u001b[1;33m\u001b[0m\u001b[0m\n\u001b[0;32m    126\u001b[0m     \u001b[1;31m# TODO: use isString and installTrChar\u001b[0m\u001b[1;33m\u001b[0m\u001b[1;33m\u001b[0m\u001b[1;33m\u001b[0m\u001b[0m\n\u001b[1;32m--> 127\u001b[1;33m     \u001b[0ms\u001b[0m \u001b[1;33m=\u001b[0m \u001b[0mffi\u001b[0m\u001b[1;33m.\u001b[0m\u001b[0mstring\u001b[0m\u001b[1;33m(\u001b[0m\u001b[0mc\u001b[0m\u001b[1;33m)\u001b[0m\u001b[1;33m.\u001b[0m\u001b[0mdecode\u001b[0m\u001b[1;33m(\u001b[0m\u001b[0mencoding\u001b[0m\u001b[1;33m)\u001b[0m\u001b[1;33m\u001b[0m\u001b[1;33m\u001b[0m\u001b[0m\n\u001b[0m\u001b[0;32m    128\u001b[0m     \u001b[1;32mreturn\u001b[0m \u001b[0ms\u001b[0m\u001b[1;33m\u001b[0m\u001b[1;33m\u001b[0m\u001b[0m\n\u001b[0;32m    129\u001b[0m \u001b[1;33m\u001b[0m\u001b[0m\n",
      "\u001b[1;31mUnicodeDecodeError\u001b[0m: 'utf-8' codec can't decode byte 0xf3 in position 196: invalid continuation byte"
     ]
    }
   ],
   "source": [
    "# Instalando las librerias:\n",
    "\n",
    "# pip install rpy2\n",
    "from rpy2.robjects import r ,pandas2ri\n",
    "from rpy2.robjects.packages import importr\n",
    "from rpy2.robjects import FloatVector"
   ]
  },
  {
   "cell_type": "code",
   "execution_count": null,
   "metadata": {},
   "outputs": [],
   "source": [
    "pandas2ri.activate()"
   ]
  },
  {
   "cell_type": "code",
   "execution_count": null,
   "metadata": {},
   "outputs": [],
   "source": [
    "importr('queuecomputer')"
   ]
  },
  {
   "cell_type": "markdown",
   "metadata": {},
   "source": [
    "### Simulation with Queue Computer (Simulación con computadora de cola):"
   ]
  },
  {
   "cell_type": "code",
   "execution_count": null,
   "metadata": {},
   "outputs": [],
   "source": [
    "arrival_time= np.random.exponential(1,400).cumsum()"
   ]
  },
  {
   "cell_type": "code",
   "execution_count": null,
   "metadata": {},
   "outputs": [],
   "source": [
    "service_time= np.random.normal(1,0.2,400)"
   ]
  },
  {
   "cell_type": "code",
   "execution_count": null,
   "metadata": {},
   "outputs": [],
   "source": [
    "r_arrival= FloatVector(arrival_time)"
   ]
  },
  {
   "cell_type": "code",
   "execution_count": null,
   "metadata": {},
   "outputs": [],
   "source": [
    "r_service_time= FloatVector(service_time)"
   ]
  },
  {
   "cell_type": "code",
   "execution_count": null,
   "metadata": {},
   "outputs": [],
   "source": [
    "simulation= r['queue_step'](r_arrival,r_service_time,1)"
   ]
  },
  {
   "cell_type": "code",
   "execution_count": null,
   "metadata": {},
   "outputs": [],
   "source": [
    "simulation[0]\n",
    "simulation[1]\n",
    "simulation[2]\n",
    "simulation[3]"
   ]
  },
  {
   "cell_type": "code",
   "execution_count": null,
   "metadata": {},
   "outputs": [],
   "source": [
    "mean_waiting_time=simulation[2]['waiting'].mean()"
   ]
  },
  {
   "cell_type": "code",
   "execution_count": null,
   "metadata": {},
   "outputs": [],
   "source": [
    "average_sim_r=[]\n",
    "for i in range(0,1000):\n",
    "    arrival_time= np.random.exponential(1,400).cumsum()\n",
    "\n",
    "    service_time= np.random.normal(1,0.2,400)\n",
    "\n",
    "    r_arrival= FloatVector(arrival_time)\n",
    "    r_service_time= FloatVector(service_time)\n",
    "    simulation=r['queue_step'](r_arrival,r_service_time,1)\n",
    "    average_sim_r.append(simulation[2]['waiting'].mean())"
   ]
  },
  {
   "cell_type": "code",
   "execution_count": null,
   "metadata": {},
   "outputs": [],
   "source": [
    "import seaborn as sns\n",
    "sns.distplot(average_sim_r)\n",
    "np.median(average_sim_r)"
   ]
  },
  {
   "cell_type": "markdown",
   "metadata": {},
   "source": [
    "**Problema 2:** \n",
    "\n",
    "Usted es el Gerente de Operaciones en un centro de llamadas, se le ha asignado la tarea de determinar cuántos representantes del centro de llamadas, se necesida por horas, verificando la llamada entrante de los clientes un día y ha determinado que recibe alrededor de 40 llamadas por hora, y una llamada tarda alrededor de 7 minutos. Cuantas llamadas a los representantes del centro, debería tener una espera tiempo de no más de 5 minutos que la llegada sea exponencial así como el tiempo de servicio."
   ]
  },
  {
   "cell_type": "code",
   "execution_count": null,
   "metadata": {},
   "outputs": [],
   "source": []
  },
  {
   "cell_type": "code",
   "execution_count": null,
   "metadata": {},
   "outputs": [],
   "source": []
  },
  {
   "cell_type": "code",
   "execution_count": null,
   "metadata": {},
   "outputs": [],
   "source": []
  },
  {
   "cell_type": "code",
   "execution_count": null,
   "metadata": {},
   "outputs": [],
   "source": []
  },
  {
   "cell_type": "markdown",
   "metadata": {},
   "source": [
    "**Problema 3:**\n",
    "\n",
    "Ahora, digamos que es un gerente de operaciones bancarias y le gustaría saber cuántos cajeros necesita si su banco es visitado por alrededor de 150 clientes por hora y el tiempo promedio de servicio se distribuye exponencialmente con un Mu de 15 minutos. Tenga en cuenta que la capacidad del banco es de solo 55 clientes dentro del banco. M, M, K, 55, desea que el tiempo máximo de espera sea de 10 minutos por cliente hasta que se le atienda."
   ]
  },
  {
   "cell_type": "code",
   "execution_count": null,
   "metadata": {},
   "outputs": [],
   "source": []
  },
  {
   "cell_type": "code",
   "execution_count": null,
   "metadata": {},
   "outputs": [],
   "source": []
  },
  {
   "cell_type": "code",
   "execution_count": null,
   "metadata": {},
   "outputs": [],
   "source": []
  },
  {
   "cell_type": "markdown",
   "metadata": {},
   "source": [
    "**Problema 4 - Servicio múltiple en el mismo banco:** \n",
    "\n",
    "Realizó un análisis más detallado y descubrió que el banco en realidad tiene dos servicios, el servicio de cajero y el servicio de atención al cliente. Los clientes vienen al banco para registrarse para un cajero o un servicio de atención al cliente, se ha descubierto que un cliente tarda alrededor de 30 segundos en registrarse y el 65% de los clientes van a los cajeros mientras que el 35% de los clientes acudieron al servicio de atención al cliente, los clientes aún llegan a una tasa exponencial de 150 clientes por hora, el servicio de cajero toma 10 minutos con una desviación estándar de st = 2, mientras que el servicio al cliente toma una tasa exponencial de 13 minutos. Cuál es el tiempo medio de espera del sistema si tiene 15 cajeros y 15 especialistas en servicio al cliente."
   ]
  },
  {
   "cell_type": "code",
   "execution_count": null,
   "metadata": {},
   "outputs": [],
   "source": []
  },
  {
   "cell_type": "code",
   "execution_count": null,
   "metadata": {},
   "outputs": [],
   "source": []
  },
  {
   "cell_type": "code",
   "execution_count": null,
   "metadata": {},
   "outputs": [],
   "source": []
  },
  {
   "cell_type": "code",
   "execution_count": null,
   "metadata": {},
   "outputs": [],
   "source": []
  },
  {
   "cell_type": "code",
   "execution_count": null,
   "metadata": {},
   "outputs": [],
   "source": []
  }
 ],
 "metadata": {
  "kernelspec": {
   "display_name": "Python 3",
   "language": "python",
   "name": "python3"
  },
  "language_info": {
   "codemirror_mode": {
    "name": "ipython",
    "version": 3
   },
   "file_extension": ".py",
   "mimetype": "text/x-python",
   "name": "python",
   "nbconvert_exporter": "python",
   "pygments_lexer": "ipython3",
   "version": "3.8.5"
  }
 },
 "nbformat": 4,
 "nbformat_minor": 4
}
